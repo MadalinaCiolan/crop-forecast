{
 "cells": [
  {
   "cell_type": "markdown",
   "metadata": {},
   "source": [
    "# Import all required libraries"
   ]
  },
  {
   "cell_type": "code",
   "execution_count": 3,
   "metadata": {},
   "outputs": [],
   "source": [
    "import pandas as pd\n",
    "import numpy as np\n",
    "import torch\n",
    "import pyro\n",
    "import pyro.distributions as dist\n",
    "from pyro.infer import SVI, Trace_ELBO\n",
    "from pyro.nn import PyroModule, PyroParam"
   ]
  },
  {
   "cell_type": "markdown",
   "metadata": {},
   "source": [
    "# Read all data into Pandas DataFrames"
   ]
  },
  {
   "cell_type": "code",
   "execution_count": 4,
   "metadata": {},
   "outputs": [
    {
     "name": "stdout",
     "output_type": "stream",
     "text": [
      "               jan_1999.0  feb_1999.0  mar_1999.0  apr_1999.0  may_1999.0  \\\n",
      "airfrost_days         6.6         6.1         3.2         4.3         0.0   \n",
      "rainfall            250.9       104.0       100.2       122.5        83.4   \n",
      "temperature           NaN         NaN         6.4         8.5        11.8   \n",
      "sunshine             43.9        53.7        91.9       144.8       131.9   \n",
      "\n",
      "               june_1999.0  july_1999.0  aug_1999.0  sep_1999.0  oct_1999.0  \\\n",
      "airfrost_days          0.1          0.0         0.0         0.0         0.4   \n",
      "rainfall               NaN          NaN       138.0       204.3       137.4   \n",
      "temperature            NaN          NaN        15.1        14.0        10.0   \n",
      "sunshine               NaN          NaN       144.9         NaN       109.1   \n",
      "\n",
      "               ...  sept_2015.0  sept_2016.0  sept_2017.0  sept_2018.0  \\\n",
      "airfrost_days  ...          NaN          NaN          NaN          NaN   \n",
      "rainfall       ...          NaN          NaN          NaN          NaN   \n",
      "temperature    ...          NaN          NaN          NaN          NaN   \n",
      "sunshine       ...        165.5        120.4        104.0        124.7   \n",
      "\n",
      "               sept_2019.0  sept_2020.0  sept_2021.0  sept_2022.0  \\\n",
      "airfrost_days          NaN          NaN          NaN          NaN   \n",
      "rainfall               NaN          NaN          NaN          NaN   \n",
      "temperature            NaN          NaN          NaN          NaN   \n",
      "sunshine             150.5        153.6        121.5        103.7   \n",
      "\n",
      "               sept_2023.0  sept_2024.0  \n",
      "airfrost_days          NaN          NaN  \n",
      "rainfall               NaN          NaN  \n",
      "temperature            NaN          NaN  \n",
      "sunshine             129.4        104.8  \n",
      "\n",
      "[4 rows x 442 columns]\n"
     ]
    }
   ],
   "source": [
    "def process_feature_file(file_path: str, feature_name: str) -> pd.DataFrame:\n",
    "    \"\"\"\n",
    "    Process a single feature file into a DataFrame row with month_year columns.\n",
    "    \n",
    "    Args:\n",
    "        file_path: Path to the CSV file.\n",
    "        feature_name: Name of the feature (used as the row index).\n",
    "    \n",
    "    Returns:\n",
    "        DataFrame with 1 row and columns like 'jan_1999', 'feb_1999', etc.\n",
    "    \"\"\"\n",
    "    df = pd.read_csv(file_path)\n",
    "    feature_data = pd.DataFrame()\n",
    "\n",
    "    for _, row in df.iterrows():\n",
    "        year = row['Year']\n",
    "        monthly_values = row.drop('Year')\n",
    "        month_year_columns = {month: f\"{month.lower()}_{year}\" \n",
    "                             for month in monthly_values.index}\n",
    "        \n",
    "        # Create single-row DataFrame for this year's data\n",
    "        year_df = pd.DataFrame([monthly_values.values], \n",
    "                              columns=month_year_columns.values())\n",
    "        feature_data = pd.concat([feature_data, year_df], axis=1)\n",
    "\n",
    "    feature_data.index = [feature_name]\n",
    "    return feature_data\n",
    "\n",
    "# List of tuples (file_path, feature_name)\n",
    "DATA_PATH = '../data/wales/'\n",
    "files_to_process = [\n",
    "    (DATA_PATH+'wales_airfrost_days.csv', 'airfrost_days'),\n",
    "    (DATA_PATH+'wales_precipitation_per_month.csv', 'rainfall'), \n",
    "    (DATA_PATH+'wales_monthly_temp.csv', 'temperature'),\n",
    "    (DATA_PATH+'wales_monthly_sunshine.csv', 'sunshine')\n",
    "]\n",
    "\n",
    "# Process all files and combine\n",
    "dataframes = []\n",
    "for file_path, feature in files_to_process:\n",
    "    df = process_feature_file(file_path, feature)\n",
    "    dataframes.append(df)\n",
    "\n",
    "final_df = pd.concat(dataframes)\n",
    "\n",
    "print(final_df)"
   ]
  }
 ],
 "metadata": {
  "kernelspec": {
   "display_name": "mada-proj",
   "language": "python",
   "name": "python3"
  },
  "language_info": {
   "codemirror_mode": {
    "name": "ipython",
    "version": 3
   },
   "file_extension": ".py",
   "mimetype": "text/x-python",
   "name": "python",
   "nbconvert_exporter": "python",
   "pygments_lexer": "ipython3",
   "version": "3.10.16"
  }
 },
 "nbformat": 4,
 "nbformat_minor": 2
}
